{
  "cells": [
    {
      "cell_type": "markdown",
      "id": "64d44da9-558f-4634-9de8-de0f46f93cfe",
      "metadata": {
        "id": "64d44da9-558f-4634-9de8-de0f46f93cfe"
      },
      "source": [
        "## Часть 1: Введение в Pandas\n",
        "\n",
        "Pandas - это библиотека Python для работы с данными. Она предоставляет мощные инструменты для анализа и манипуляции данными.\n",
        "\n",
        "### Установка Pandas\n",
        "\n",
        "Для начала убедитесь, что у вас установлена библиотека Pandas. Если ее нет, установите ее с помощью команды:\n"
      ]
    },
    {
      "cell_type": "code",
      "execution_count": 1,
      "id": "7484df51-b002-414c-ae42-75a2df57c78d",
      "metadata": {
        "colab": {
          "base_uri": "https://localhost:8080/"
        },
        "id": "7484df51-b002-414c-ae42-75a2df57c78d",
        "outputId": "363440f3-ee2a-4d2f-af07-0ee5aa68ef06"
      },
      "outputs": [
        {
          "output_type": "stream",
          "name": "stdout",
          "text": [
            "Requirement already satisfied: pandas in /usr/local/lib/python3.10/dist-packages (2.2.2)\n",
            "Requirement already satisfied: numpy>=1.22.4 in /usr/local/lib/python3.10/dist-packages (from pandas) (1.26.4)\n",
            "Requirement already satisfied: python-dateutil>=2.8.2 in /usr/local/lib/python3.10/dist-packages (from pandas) (2.8.2)\n",
            "Requirement already satisfied: pytz>=2020.1 in /usr/local/lib/python3.10/dist-packages (from pandas) (2024.2)\n",
            "Requirement already satisfied: tzdata>=2022.7 in /usr/local/lib/python3.10/dist-packages (from pandas) (2024.2)\n",
            "Requirement already satisfied: six>=1.5 in /usr/local/lib/python3.10/dist-packages (from python-dateutil>=2.8.2->pandas) (1.16.0)\n"
          ]
        }
      ],
      "source": [
        "!pip install pandas"
      ]
    },
    {
      "cell_type": "markdown",
      "id": "4b655e29-c3a5-4117-9860-2d6b9af62ac1",
      "metadata": {
        "id": "4b655e29-c3a5-4117-9860-2d6b9af62ac1"
      },
      "source": [
        "## Импорт библиотеки\n",
        "Давайте начнем с импорта библиотеки Pandas:"
      ]
    },
    {
      "cell_type": "code",
      "execution_count": 2,
      "id": "bfc3346f-3843-4aff-aec0-54321b9774f0",
      "metadata": {
        "tags": [],
        "id": "bfc3346f-3843-4aff-aec0-54321b9774f0"
      },
      "outputs": [],
      "source": [
        "import pandas as pd"
      ]
    },
    {
      "cell_type": "markdown",
      "id": "ea8530e9-c179-48c1-8043-ff87f415ee67",
      "metadata": {
        "id": "ea8530e9-c179-48c1-8043-ff87f415ee67"
      },
      "source": [
        "## Часть 2: Работа с данными\n",
        "### Чтение данных\n",
        "Мы будем использовать датасет Titanic. Давайте прочитаем данные из CSV файла."
      ]
    },
    {
      "cell_type": "code",
      "execution_count": 5,
      "id": "fa5deec6-c85e-4d88-89df-bea7d75fcbba",
      "metadata": {
        "id": "fa5deec6-c85e-4d88-89df-bea7d75fcbba"
      },
      "outputs": [],
      "source": [
        "# Чтение данных из файла 'titanic.csv'\n",
        "# Используйте метод pd.read_csv()\n",
        "# write your code here\n",
        "\n",
        "df = pd.read_csv('titanic.csv')"
      ]
    },
    {
      "cell_type": "markdown",
      "id": "07dfd488-4960-495e-80d8-9cf5903449b6",
      "metadata": {
        "id": "07dfd488-4960-495e-80d8-9cf5903449b6"
      },
      "source": [
        "### Предпросмотр данных\n",
        "Для первого ознакомления с данными давайте выведем первые несколько строк."
      ]
    },
    {
      "cell_type": "code",
      "execution_count": 6,
      "id": "216e104c-259f-4ecd-9cd4-40362f61ca4e",
      "metadata": {
        "colab": {
          "base_uri": "https://localhost:8080/"
        },
        "id": "216e104c-259f-4ecd-9cd4-40362f61ca4e",
        "outputId": "4bd40751-74c8-4be6-fcdc-c0ef61d6cddc"
      },
      "outputs": [
        {
          "output_type": "stream",
          "name": "stdout",
          "text": [
            "   PassengerId  Survived  Pclass  \\\n",
            "0            1         0       3   \n",
            "1            2         1       1   \n",
            "2            3         1       3   \n",
            "3            4         1       1   \n",
            "4            5         0       3   \n",
            "\n",
            "                                                Name     Sex   Age  SibSp  \\\n",
            "0                            Braund, Mr. Owen Harris    male  22.0      1   \n",
            "1  Cumings, Mrs. John Bradley (Florence Briggs Th...  female  38.0      1   \n",
            "2                             Heikkinen, Miss. Laina  female  26.0      0   \n",
            "3       Futrelle, Mrs. Jacques Heath (Lily May Peel)  female  35.0      1   \n",
            "4                           Allen, Mr. William Henry    male  35.0      0   \n",
            "\n",
            "   Parch            Ticket     Fare Cabin Embarked  \n",
            "0      0         A/5 21171   7.2500   NaN        S  \n",
            "1      0          PC 17599  71.2833   C85        C  \n",
            "2      0  STON/O2. 3101282   7.9250   NaN        S  \n",
            "3      0            113803  53.1000  C123        S  \n",
            "4      0            373450   8.0500   NaN        S  \n"
          ]
        }
      ],
      "source": [
        "# Вывод первых 5 строк данных\n",
        "# Используйте метод .head()\n",
        "# write your code here\n",
        "\n",
        "print(df.head())"
      ]
    },
    {
      "cell_type": "markdown",
      "id": "b7ba5f57-07e1-4c0f-9b55-9d78638ee2cc",
      "metadata": {
        "id": "b7ba5f57-07e1-4c0f-9b55-9d78638ee2cc"
      },
      "source": [
        "### Информация о данных\n",
        "Чтобы получить общую информацию о данных, воспользуйтесь методом .info()."
      ]
    },
    {
      "cell_type": "code",
      "execution_count": 7,
      "id": "43650b4f-f3e7-4480-b874-b5552f564383",
      "metadata": {
        "colab": {
          "base_uri": "https://localhost:8080/"
        },
        "id": "43650b4f-f3e7-4480-b874-b5552f564383",
        "outputId": "35e24a2f-e56b-4469-9ccc-71845ce1275b"
      },
      "outputs": [
        {
          "output_type": "stream",
          "name": "stdout",
          "text": [
            "<class 'pandas.core.frame.DataFrame'>\n",
            "RangeIndex: 891 entries, 0 to 890\n",
            "Data columns (total 12 columns):\n",
            " #   Column       Non-Null Count  Dtype  \n",
            "---  ------       --------------  -----  \n",
            " 0   PassengerId  891 non-null    int64  \n",
            " 1   Survived     891 non-null    int64  \n",
            " 2   Pclass       891 non-null    int64  \n",
            " 3   Name         891 non-null    object \n",
            " 4   Sex          891 non-null    object \n",
            " 5   Age          714 non-null    float64\n",
            " 6   SibSp        891 non-null    int64  \n",
            " 7   Parch        891 non-null    int64  \n",
            " 8   Ticket       891 non-null    object \n",
            " 9   Fare         891 non-null    float64\n",
            " 10  Cabin        204 non-null    object \n",
            " 11  Embarked     889 non-null    object \n",
            "dtypes: float64(2), int64(5), object(5)\n",
            "memory usage: 83.7+ KB\n"
          ]
        }
      ],
      "source": [
        "df.info()"
      ]
    },
    {
      "cell_type": "markdown",
      "id": "a6857118-a82e-4586-a933-4eb0df9cb74e",
      "metadata": {
        "id": "a6857118-a82e-4586-a933-4eb0df9cb74e"
      },
      "source": [
        "### Работа с NaN\n",
        "Часто данные содержат пропущенные значения, которые представляются как NaN (Not a Number). Pandas предоставляет удобные методы для работы с ними.\n",
        "\n",
        "Проверка на наличие NaN. Методы fillna и dropna возвращают новые Dataframe, проверьте нет ли в них NaN"
      ]
    },
    {
      "cell_type": "code",
      "execution_count": 8,
      "id": "f7910fde-24f7-4cf8-991d-01f08bc45b63",
      "metadata": {
        "tags": [],
        "colab": {
          "base_uri": "https://localhost:8080/"
        },
        "id": "f7910fde-24f7-4cf8-991d-01f08bc45b63",
        "outputId": "79e2b5c3-78c6-4415-8c5b-2aed722b0c6e"
      },
      "outputs": [
        {
          "output_type": "stream",
          "name": "stdout",
          "text": [
            "   PassengerId  Survived  Pclass   Name    Sex    Age  SibSp  Parch  Ticket  \\\n",
            "0        False     False   False  False  False  False  False  False   False   \n",
            "1        False     False   False  False  False  False  False  False   False   \n",
            "2        False     False   False  False  False  False  False  False   False   \n",
            "3        False     False   False  False  False  False  False  False   False   \n",
            "4        False     False   False  False  False  False  False  False   False   \n",
            "\n",
            "    Fare  Cabin  Embarked  \n",
            "0  False   True     False  \n",
            "1  False  False     False  \n",
            "2  False   True     False  \n",
            "3  False  False     False  \n",
            "4  False   True     False  \n"
          ]
        }
      ],
      "source": [
        "# Проверка на наличие NaN в DataFrame\n",
        "# Используйте метод .isna()\n",
        "# write your code here\n",
        "\n",
        "nan_check = df.isna()\n",
        "print(nan_check.head())"
      ]
    },
    {
      "cell_type": "markdown",
      "id": "1dadeaf7-e214-4552-b054-8e4a03714f72",
      "metadata": {
        "id": "1dadeaf7-e214-4552-b054-8e4a03714f72"
      },
      "source": [
        "Заполнение NaN"
      ]
    },
    {
      "cell_type": "code",
      "execution_count": 9,
      "id": "7d901187-75a9-497e-8774-6e0dde584197",
      "metadata": {
        "colab": {
          "base_uri": "https://localhost:8080/"
        },
        "id": "7d901187-75a9-497e-8774-6e0dde584197",
        "outputId": "17fa9328-6209-4ef8-b32d-21f2dfd9557b"
      },
      "outputs": [
        {
          "output_type": "stream",
          "name": "stdout",
          "text": [
            "   PassengerId  Survived  Pclass  \\\n",
            "0            1         0       3   \n",
            "1            2         1       1   \n",
            "2            3         1       3   \n",
            "3            4         1       1   \n",
            "4            5         0       3   \n",
            "\n",
            "                                                Name     Sex   Age  SibSp  \\\n",
            "0                            Braund, Mr. Owen Harris    male  22.0      1   \n",
            "1  Cumings, Mrs. John Bradley (Florence Briggs Th...  female  38.0      1   \n",
            "2                             Heikkinen, Miss. Laina  female  26.0      0   \n",
            "3       Futrelle, Mrs. Jacques Heath (Lily May Peel)  female  35.0      1   \n",
            "4                           Allen, Mr. William Henry    male  35.0      0   \n",
            "\n",
            "   Parch            Ticket     Fare Cabin Embarked  \n",
            "0      0         A/5 21171   7.2500     0        S  \n",
            "1      0          PC 17599  71.2833   C85        C  \n",
            "2      0  STON/O2. 3101282   7.9250     0        S  \n",
            "3      0            113803  53.1000  C123        S  \n",
            "4      0            373450   8.0500     0        S  \n"
          ]
        }
      ],
      "source": [
        "# Заполнение NaN определенным значением (например, нулем)\n",
        "# Используйте метод .fillna()\n",
        "# write your code here\n",
        "\n",
        "df_filled = df.fillna(0)\n",
        "print(df_filled.head())"
      ]
    },
    {
      "cell_type": "markdown",
      "id": "6f32fddb-ec60-456b-8958-5c81b0357d49",
      "metadata": {
        "id": "6f32fddb-ec60-456b-8958-5c81b0357d49"
      },
      "source": [
        "Удаление строк с NaN"
      ]
    },
    {
      "cell_type": "code",
      "execution_count": 10,
      "id": "4d188deb-0818-4b01-b3a5-9d20d2166d10",
      "metadata": {
        "tags": [],
        "colab": {
          "base_uri": "https://localhost:8080/"
        },
        "id": "4d188deb-0818-4b01-b3a5-9d20d2166d10",
        "outputId": "e8d78ef8-1191-46e1-c127-616f7fbecf16"
      },
      "outputs": [
        {
          "output_type": "stream",
          "name": "stdout",
          "text": [
            "    PassengerId  Survived  Pclass  \\\n",
            "1             2         1       1   \n",
            "3             4         1       1   \n",
            "6             7         0       1   \n",
            "10           11         1       3   \n",
            "11           12         1       1   \n",
            "\n",
            "                                                 Name     Sex   Age  SibSp  \\\n",
            "1   Cumings, Mrs. John Bradley (Florence Briggs Th...  female  38.0      1   \n",
            "3        Futrelle, Mrs. Jacques Heath (Lily May Peel)  female  35.0      1   \n",
            "6                             McCarthy, Mr. Timothy J    male  54.0      0   \n",
            "10                    Sandstrom, Miss. Marguerite Rut  female   4.0      1   \n",
            "11                           Bonnell, Miss. Elizabeth  female  58.0      0   \n",
            "\n",
            "    Parch    Ticket     Fare Cabin Embarked  \n",
            "1       0  PC 17599  71.2833   C85        C  \n",
            "3       0    113803  53.1000  C123        S  \n",
            "6       0     17463  51.8625   E46        S  \n",
            "10      1   PP 9549  16.7000    G6        S  \n",
            "11      0    113783  26.5500  C103        S  \n"
          ]
        }
      ],
      "source": [
        "# Удаление строк, содержащих NaN\n",
        "# Используйте метод .dropna()\n",
        "# write your code here\n",
        "\n",
        "df_cleaned = df.dropna()\n",
        "print(df_cleaned.head())"
      ]
    },
    {
      "cell_type": "markdown",
      "id": "7a4ff131-1593-4cd2-b2bc-e0ddb2442d3b",
      "metadata": {
        "id": "7a4ff131-1593-4cd2-b2bc-e0ddb2442d3b"
      },
      "source": [
        "## Часть 3: Обработка DataFrame\n",
        "### Выбор данных\n",
        "Pandas позволяет выбирать данные по индексам, меткам столбцов и условиям."
      ]
    },
    {
      "cell_type": "code",
      "execution_count": 14,
      "id": "d11f6114-ce4b-4e71-afec-adf1d8c1ec6e",
      "metadata": {
        "tags": [],
        "colab": {
          "base_uri": "https://localhost:8080/"
        },
        "id": "d11f6114-ce4b-4e71-afec-adf1d8c1ec6e",
        "outputId": "530cfcc5-27e1-446e-ba5a-c75089913bc1"
      },
      "outputs": [
        {
          "output_type": "stream",
          "name": "stdout",
          "text": [
            "0    22.0\n",
            "1    38.0\n",
            "2    26.0\n",
            "3    35.0\n",
            "4    35.0\n",
            "Name: Age, dtype: float64\n",
            "\n",
            "    Age     Sex\n",
            "0  22.0    male\n",
            "1  38.0  female\n",
            "2  26.0  female\n",
            "3  35.0  female\n",
            "4  35.0    male\n",
            "\n",
            "PassengerId                          1\n",
            "Survived                             0\n",
            "Pclass                               3\n",
            "Name           Braund, Mr. Owen Harris\n",
            "Sex                               male\n",
            "Age                               22.0\n",
            "SibSp                                1\n",
            "Parch                                0\n",
            "Ticket                       A/5 21171\n",
            "Fare                              7.25\n",
            "Cabin                              NaN\n",
            "Embarked                             S\n",
            "Name: 0, dtype: object\n",
            "\n",
            "    PassengerId  Survived  Pclass                         Name   Sex   Age  \\\n",
            "4             5         0       3     Allen, Mr. William Henry  male  35.0   \n",
            "6             7         0       1      McCarthy, Mr. Timothy J  male  54.0   \n",
            "13           14         0       3  Andersson, Mr. Anders Johan  male  39.0   \n",
            "20           21         0       2         Fynney, Mr. Joseph J  male  35.0   \n",
            "21           22         1       2        Beesley, Mr. Lawrence  male  34.0   \n",
            "\n",
            "    SibSp  Parch  Ticket     Fare Cabin Embarked  \n",
            "4       0      0  373450   8.0500   NaN        S  \n",
            "6       0      0   17463  51.8625   E46        S  \n",
            "13      1      5  347082  31.2750   NaN        S  \n",
            "20      0      0  239865  26.0000   NaN        S  \n",
            "21      0      0  248698  13.0000   D56        S  \n"
          ]
        }
      ],
      "source": [
        "# Выбор столбца по метке\n",
        "# Используйте синтаксис DataFrame['название_столбца']\n",
        "# write your code here\n",
        "age_column = df['Age']\n",
        "print(age_column.head())\n",
        "print()\n",
        "\n",
        "# Выбор нескольких столбцов\n",
        "# Используйте синтаксис DataFrame[['столбец_1', 'столбец_2']]\n",
        "# write your code here\n",
        "age_sex_columns = df[['Age', 'Sex']]\n",
        "print(age_sex_columns.head())\n",
        "print()\n",
        "\n",
        "# Выбор строк по индексу\n",
        "# Используйте метод .loc[]\n",
        "# write your code here\n",
        "row_0 = df.loc[0]\n",
        "print(row_0)\n",
        "print()\n",
        "\n",
        "# Выбор строк и столбцов по условию\n",
        "# Используя логические операции, выберите мужчин старше 30\n",
        "# write your code here\n",
        "men_over_30 = df[(df['Sex'] == 'male') & (df['Age'] > 30)]\n",
        "print(men_over_30.head())"
      ]
    },
    {
      "cell_type": "markdown",
      "id": "f3102de8-d2fd-4593-bf26-721316ae51e9",
      "metadata": {
        "id": "f3102de8-d2fd-4593-bf26-721316ae51e9"
      },
      "source": [
        "### Сортировка данных\n",
        "Сортировка данных по значениям столбцов."
      ]
    },
    {
      "cell_type": "code",
      "execution_count": 15,
      "id": "de5e850c-e920-4ae4-aadb-3f1953438b09",
      "metadata": {
        "tags": [],
        "colab": {
          "base_uri": "https://localhost:8080/"
        },
        "id": "de5e850c-e920-4ae4-aadb-3f1953438b09",
        "outputId": "c3919980-6547-4805-b6f9-7bc4ae4d5d2b"
      },
      "outputs": [
        {
          "output_type": "stream",
          "name": "stdout",
          "text": [
            "     PassengerId  Survived  Pclass                             Name     Sex  \\\n",
            "803          804         1       3  Thomas, Master. Assad Alexander    male   \n",
            "755          756         1       2        Hamalainen, Master. Viljo    male   \n",
            "644          645         1       3           Baclini, Miss. Eugenie  female   \n",
            "469          470         1       3    Baclini, Miss. Helene Barbara  female   \n",
            "78            79         1       2    Caldwell, Master. Alden Gates    male   \n",
            "\n",
            "      Age  SibSp  Parch  Ticket     Fare Cabin Embarked  \n",
            "803  0.42      0      1    2625   8.5167   NaN        C  \n",
            "755  0.67      1      1  250649  14.5000   NaN        S  \n",
            "644  0.75      2      1    2666  19.2583   NaN        C  \n",
            "469  0.75      2      1    2666  19.2583   NaN        C  \n",
            "78   0.83      0      2  248738  29.0000   NaN        S  \n"
          ]
        }
      ],
      "source": [
        "# Сортировка данных по столбцу 'столбец_1' по возрастанию\n",
        "# Используйте метод .sort_values()\n",
        "# write your code here\n",
        "sorted_df = df.sort_values(by='Age')\n",
        "print(sorted_df.head())"
      ]
    },
    {
      "cell_type": "markdown",
      "id": "eab3cd85-5e96-4228-8834-9ef53b93689a",
      "metadata": {
        "id": "eab3cd85-5e96-4228-8834-9ef53b93689a"
      },
      "source": [
        "### Группировка данных\n",
        "Pandas также позволяет группировать данные и выполнять агрегирующие операции."
      ]
    },
    {
      "cell_type": "code",
      "execution_count": 16,
      "id": "25ced901-0482-49a8-8c12-d192e84e3fb3",
      "metadata": {
        "tags": [],
        "colab": {
          "base_uri": "https://localhost:8080/"
        },
        "id": "25ced901-0482-49a8-8c12-d192e84e3fb3",
        "outputId": "b8512bbf-4a2f-4b6d-e56e-40878aad7301"
      },
      "outputs": [
        {
          "output_type": "stream",
          "name": "stdout",
          "text": [
            "Pclass\n",
            "1    0.629630\n",
            "2    0.472826\n",
            "3    0.242363\n",
            "Name: Survived, dtype: float64\n"
          ]
        }
      ],
      "source": [
        "# Найдите долю выживших среди всех PClass\n",
        "# Используйте метод .groupby()\n",
        "# write your code here\n",
        "survival_rate_by_class = df.groupby('Pclass')['Survived'].mean()\n",
        "print(survival_rate_by_class)"
      ]
    },
    {
      "cell_type": "markdown",
      "id": "d0355db7-7bf9-46d1-ad51-5f2eddc42501",
      "metadata": {
        "id": "d0355db7-7bf9-46d1-ad51-5f2eddc42501"
      },
      "source": [
        "## Часть 4: Задания для практики\n",
        "Прочитайте данные из файла 'titanic.csv'.\n",
        "Проверьте, есть ли пропущенные значения в данных и заполните их нулями.\n",
        "Выведите первые 10 строк данных.\n",
        "Выберите только те строки, где значение в столбце 'Age' больше 30.\n",
        "Отсортируйте данные по столбцу 'Fare' в порядке убывания.\n",
        "Сгруппируйте данные по столбцу 'Pclass' и вычислите средний возраст ('Age') для каждого класса."
      ]
    },
    {
      "cell_type": "code",
      "execution_count": 19,
      "id": "a1b4deaa-cd06-41b3-8084-5c2d3a867811",
      "metadata": {
        "colab": {
          "base_uri": "https://localhost:8080/"
        },
        "id": "a1b4deaa-cd06-41b3-8084-5c2d3a867811",
        "outputId": "a433c906-f9b6-4126-b042-58cddad080ea"
      },
      "outputs": [
        {
          "output_type": "stream",
          "name": "stdout",
          "text": [
            "   PassengerId  Survived  Pclass  \\\n",
            "0            1         0       3   \n",
            "1            2         1       1   \n",
            "2            3         1       3   \n",
            "3            4         1       1   \n",
            "4            5         0       3   \n",
            "5            6         0       3   \n",
            "6            7         0       1   \n",
            "7            8         0       3   \n",
            "8            9         1       3   \n",
            "9           10         1       2   \n",
            "\n",
            "                                                Name     Sex   Age  SibSp  \\\n",
            "0                            Braund, Mr. Owen Harris    male  22.0      1   \n",
            "1  Cumings, Mrs. John Bradley (Florence Briggs Th...  female  38.0      1   \n",
            "2                             Heikkinen, Miss. Laina  female  26.0      0   \n",
            "3       Futrelle, Mrs. Jacques Heath (Lily May Peel)  female  35.0      1   \n",
            "4                           Allen, Mr. William Henry    male  35.0      0   \n",
            "5                                   Moran, Mr. James    male   0.0      0   \n",
            "6                            McCarthy, Mr. Timothy J    male  54.0      0   \n",
            "7                     Palsson, Master. Gosta Leonard    male   2.0      3   \n",
            "8  Johnson, Mrs. Oscar W (Elisabeth Vilhelmina Berg)  female  27.0      0   \n",
            "9                Nasser, Mrs. Nicholas (Adele Achem)  female  14.0      1   \n",
            "\n",
            "   Parch            Ticket     Fare Cabin Embarked  \n",
            "0      0         A/5 21171   7.2500     0        S  \n",
            "1      0          PC 17599  71.2833   C85        C  \n",
            "2      0  STON/O2. 3101282   7.9250     0        S  \n",
            "3      0            113803  53.1000  C123        S  \n",
            "4      0            373450   8.0500     0        S  \n",
            "5      0            330877   8.4583     0        Q  \n",
            "6      0             17463  51.8625   E46        S  \n",
            "7      1            349909  21.0750     0        S  \n",
            "8      2            347742  11.1333     0        S  \n",
            "9      0            237736  30.0708     0        C  \n",
            "     PassengerId  Survived  Pclass  \\\n",
            "258          259         1       1   \n",
            "679          680         1       1   \n",
            "737          738         1       1   \n",
            "438          439         0       1   \n",
            "299          300         1       1   \n",
            "716          717         1       1   \n",
            "380          381         1       1   \n",
            "779          780         1       1   \n",
            "856          857         1       1   \n",
            "318          319         1       1   \n",
            "\n",
            "                                                  Name     Sex   Age  SibSp  \\\n",
            "258                                   Ward, Miss. Anna  female  35.0      0   \n",
            "679                 Cardeza, Mr. Thomas Drake Martinez    male  36.0      0   \n",
            "737                             Lesurer, Mr. Gustave J    male  35.0      0   \n",
            "438                                  Fortune, Mr. Mark    male  64.0      1   \n",
            "299    Baxter, Mrs. James (Helene DeLaudeniere Chaput)  female  50.0      0   \n",
            "716                      Endres, Miss. Caroline Louise  female  38.0      0   \n",
            "380                              Bidois, Miss. Rosalie  female  42.0      0   \n",
            "779  Robert, Mrs. Edward Scott (Elisabeth Walton Mc...  female  43.0      0   \n",
            "856         Wick, Mrs. George Dennick (Mary Hitchcock)  female  45.0      1   \n",
            "318                           Wick, Miss. Mary Natalie  female  31.0      0   \n",
            "\n",
            "     Parch    Ticket      Fare        Cabin Embarked  \n",
            "258      0  PC 17755  512.3292            0        C  \n",
            "679      1  PC 17755  512.3292  B51 B53 B55        C  \n",
            "737      0  PC 17755  512.3292         B101        C  \n",
            "438      4     19950  263.0000  C23 C25 C27        S  \n",
            "299      1  PC 17558  247.5208      B58 B60        C  \n",
            "716      0  PC 17757  227.5250          C45        C  \n",
            "380      0  PC 17757  227.5250            0        C  \n",
            "779      1     24160  211.3375           B3        S  \n",
            "856      1     36928  164.8667            0        S  \n",
            "318      2     36928  164.8667           C7        S  \n",
            "Pclass\n",
            "1    32.923241\n",
            "2    28.091467\n",
            "3    18.177026\n",
            "Name: Age, dtype: float64\n"
          ]
        }
      ],
      "source": [
        "df = pd.read_csv('titanic.csv')\n",
        "\n",
        "df_filled = df.fillna(0)\n",
        "\n",
        "print(df_filled.head(10))\n",
        "\n",
        "df_age_above_30 = df_filled[df_filled['Age'] > 30]\n",
        "\n",
        "df_sorted_by_fare = df_age_above_30.sort_values(by='Fare', ascending=False)\n",
        "\n",
        "print(df_sorted_by_fare.head(10))\n",
        "\n",
        "average_age_by_class = df_filled.groupby('Pclass')['Age'].mean()\n",
        "\n",
        "print(average_age_by_class)"
      ]
    }
  ],
  "metadata": {
    "kernelspec": {
      "display_name": "Python 3 (ipykernel)",
      "language": "python",
      "name": "python3"
    },
    "language_info": {
      "codemirror_mode": {
        "name": "ipython",
        "version": 3
      },
      "file_extension": ".py",
      "mimetype": "text/x-python",
      "name": "python",
      "nbconvert_exporter": "python",
      "pygments_lexer": "ipython3",
      "version": "3.11.5"
    },
    "colab": {
      "provenance": []
    }
  },
  "nbformat": 4,
  "nbformat_minor": 5
}