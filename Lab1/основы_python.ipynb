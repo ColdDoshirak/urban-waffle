{
  "nbformat": 4,
  "nbformat_minor": 0,
  "metadata": {
    "colab": {
      "provenance": []
    },
    "kernelspec": {
      "name": "python3",
      "display_name": "Python 3"
    },
    "language_info": {
      "name": "python"
    }
  },
  "cells": [
    {
      "cell_type": "markdown",
      "source": [
        "#Задача 1\n",
        "Написать функцию на вход которой подается строка, состоящая из латинских букв.\n",
        "Функция должна вернуть количество гласных букв (a, e, i, o, u) в этой строке. Написать тесты для кода"
      ],
      "metadata": {
        "id": "M-DGa20PaHnu"
      }
    },
    {
      "cell_type": "code",
      "source": [
        "def count_vowels(s):\n",
        "    vowels = set(\"aeiouAEIOU\")\n",
        "    return sum(1 for char in s if char in vowels)\n",
        "\n",
        "test_cases = [\n",
        "    (\"hello\", 2),      # 'e', 'o'\n",
        "    (\"abcde\", 2),      # 'a', 'e'\n",
        "    (\"xyz\", 0),        # no vowels\n",
        "    (\"AEIOU\", 5),      # all big vowels\n",
        "    (\"\", 0),           # empty string\n",
        "    (\"Python Programming\", 4), # 'o', 'o', 'a', 'i'\n",
        "    (\"aeiouAEIOU\", 10), #literally all vowels\n",
        "]\n",
        "\n",
        "results = [(s, count_vowels(s), expected) for s, expected in test_cases]\n",
        "results"
      ],
      "metadata": {
        "id": "XvX8X_JJ6PCb",
        "colab": {
          "base_uri": "https://localhost:8080/"
        },
        "outputId": "83155eab-bfe8-4fd9-c465-95d09167a766"
      },
      "execution_count": 25,
      "outputs": [
        {
          "output_type": "execute_result",
          "data": {
            "text/plain": [
              "[('hello', 2, 2),\n",
              " ('abcde', 2, 2),\n",
              " ('xyz', 0, 0),\n",
              " ('AEIOU', 5, 5),\n",
              " ('', 0, 0),\n",
              " ('Python Programming', 4, 4),\n",
              " ('aeiouAEIOU', 10, 10)]"
            ]
          },
          "metadata": {},
          "execution_count": 25
        }
      ]
    },
    {
      "cell_type": "markdown",
      "source": [
        "# Задача 2\n",
        "Написать функцию на вход, которой подается строка. Функция должна вернуть true, если\n",
        "каждый символ в строке встречается только 1 раз, иначе должна вернуть false. Написать тесты для кода"
      ],
      "metadata": {
        "id": "t2ClV_Y0bbr6"
      }
    },
    {
      "cell_type": "code",
      "source": [
        "def is_unique(s):\n",
        "    if not s:\n",
        "        return False\n",
        "    return len(set(s)) == len(s)\n",
        "\n",
        "test_cases = [\n",
        "    (\"abcdef\", True),      # all unique\n",
        "    (\"hello\", False),      # l repeat\n",
        "    (\"world\", True),       # all unique\n",
        "    (\"\", False),            # empty\n",
        "    (\"Python\", True),      # all unique\n",
        "    (\"aabbcc\", False)      # repeats\n",
        "]\n",
        "\n",
        "for s, expected in test_cases:\n",
        "    result = is_unique(s)\n",
        "    print(f\"Строка: '{s}' -> {result} (Ожидалось: {expected})\")"
      ],
      "metadata": {
        "id": "FppbECao6VIz",
        "colab": {
          "base_uri": "https://localhost:8080/"
        },
        "outputId": "2192eae0-d8f1-444a-8a88-28192fdbbc76"
      },
      "execution_count": 26,
      "outputs": [
        {
          "output_type": "stream",
          "name": "stdout",
          "text": [
            "Строка: 'abcdef' -> True (Ожидалось: True)\n",
            "Строка: 'hello' -> False (Ожидалось: False)\n",
            "Строка: 'world' -> True (Ожидалось: True)\n",
            "Строка: '' -> False (Ожидалось: False)\n",
            "Строка: 'Python' -> True (Ожидалось: True)\n",
            "Строка: 'aabbcc' -> False (Ожидалось: False)\n"
          ]
        }
      ]
    },
    {
      "cell_type": "markdown",
      "source": [
        "# Задача 3\n",
        "Написать функцию, которая принимает положительное число и возвращает количество\n",
        "бит равных 1 в этом числе. Написать тесты для кода"
      ],
      "metadata": {
        "id": "udRiIK1cdt6E"
      }
    },
    {
      "cell_type": "code",
      "source": [
        "def count_bits(n):\n",
        "    return bin(n).count('1')\n",
        "\n",
        "test_cases_bits = [\n",
        "    (5, 2),    # 5 = 101\n",
        "    (7, 3),    # 7 = 111\n",
        "    (10, 2),   # 10 = 1010\n",
        "    (0, 0),    # 0 = 0\n",
        "    (255, 8),  # 255 = 11111111\n",
        "]\n",
        "\n",
        "results_bits = [(n, count_bits(n), expected) for n, expected in test_cases_bits]\n",
        "print(results_bits)"
      ],
      "metadata": {
        "id": "6tkfDJRz6dp_",
        "colab": {
          "base_uri": "https://localhost:8080/"
        },
        "outputId": "03212d97-5cc9-41d5-e793-6ae45bdced9c"
      },
      "execution_count": 27,
      "outputs": [
        {
          "output_type": "stream",
          "name": "stdout",
          "text": [
            "[(5, 2, 2), (7, 3, 3), (10, 2, 2), (0, 0, 0), (255, 8, 8)]\n"
          ]
        }
      ]
    },
    {
      "cell_type": "markdown",
      "source": [
        "# Задача 4\n",
        "Написать функцию, которая принимает положительное число. Функция должна вернуть то,\n",
        "сколько раз необходимо перемножать цифры числа или результат перемножения, чтобы\n",
        "получилось число состоящее из одной цифры.\n",
        "Например, для входного числа:\n",
        "· 39 функция должна вернуть 3, так как 3*9=27 => 2*7=14 => 1*4=4\n",
        "· 4 функция должна вернуть 0, так как число уже состоит из одной цифры\n",
        "· 999 функция должна вернуть 4, так как 9*9*9=729 => 7*2*9=126 => 1*2*6=12 =>\n",
        "1*2=2. Написать тесты для кода"
      ],
      "metadata": {
        "id": "26dDUz-Ae17N"
      }
    },
    {
      "cell_type": "code",
      "source": [
        "def magic(n):\n",
        "    steps = 0\n",
        "    while n >= 10:\n",
        "        product = 1\n",
        "        for digit in str(n):\n",
        "            product *= int(digit)\n",
        "        n = product\n",
        "        steps += 1\n",
        "    return steps\n",
        "\n",
        "test_cases = [\n",
        "    (39, 3),     # 3*9 = 27 -> 2*7 = 14 -> 1*4 = 4\n",
        "    (4, 0),\n",
        "    (999, 4),    # 9*9*9 = 729 -> 7*2*9 = 126 -> 1*2*6 = 12 -> 1*2 = 2\n",
        "    (25, 2),     # 2*5 = 10 -> 1*0 = 0\n",
        "    (1, 0),\n",
        "]\n",
        "\n",
        "for n, expected in test_cases:\n",
        "    result = magic(n)\n",
        "    print(f\"Число: {n} -> {result} (Ожидалось: {expected})\")\n"
      ],
      "metadata": {
        "id": "BH1A_Mgi6i4G",
        "colab": {
          "base_uri": "https://localhost:8080/"
        },
        "outputId": "8cda6a16-76ae-4611-ee13-50792e0d1a09"
      },
      "execution_count": 28,
      "outputs": [
        {
          "output_type": "stream",
          "name": "stdout",
          "text": [
            "Число: 39 -> 3 (Ожидалось: 3)\n",
            "Число: 4 -> 0 (Ожидалось: 0)\n",
            "Число: 999 -> 4 (Ожидалось: 4)\n",
            "Число: 25 -> 2 (Ожидалось: 2)\n",
            "Число: 1 -> 0 (Ожидалось: 0)\n"
          ]
        }
      ]
    },
    {
      "cell_type": "markdown",
      "source": [
        "# Задача 5\n",
        "Написать функцию, которая принимает два целочисленных вектора одинаковой длины и\n",
        "возвращает среднеквадратическое отклонение двух векторов. Написать тесты для кода"
      ],
      "metadata": {
        "id": "0nS-kIa8g8vd"
      }
    },
    {
      "cell_type": "code",
      "source": [
        "def mse(pred, true):\n",
        "    if len(pred) != len(true):\n",
        "        raise ValueError(\"Векторы должны быть одинаковой длины\")\n",
        "    return sum((p - t) ** 2 for p, t in zip(pred, true)) / len(pred)\n",
        "\n",
        "test_cases = [\n",
        "    ([1, 2, 3], [1, 2, 3], 0),            # 0\n",
        "    ([1, 2, 3], [2, 3, 4], 1),            # 1^2 + 1^2 + 1^2 = 3; 3 / 3 = 1\n",
        "    ([1, 1, 1], [4, 4, 4], 9),            # 3^2 + 3^2 + 3^2 = 27; 27 / 3 = 9\n",
        "    ([1, 2], [1, 3], 0.5),                # 0^2 + 1^2 = 1; 1 / 2 = 0.5\n",
        "]\n",
        "\n",
        "for pred, true, expected in test_cases:\n",
        "    result = mse(pred, true)\n",
        "    print(f\"Векторы: {pred}, {true} -> MSE: {result} (Ожидалось: {expected})\")"
      ],
      "metadata": {
        "id": "8iphx4LM6xbx",
        "colab": {
          "base_uri": "https://localhost:8080/"
        },
        "outputId": "f24cda58-3908-4a2f-8845-ad965551f484"
      },
      "execution_count": 29,
      "outputs": [
        {
          "output_type": "stream",
          "name": "stdout",
          "text": [
            "Векторы: [1, 2, 3], [1, 2, 3] -> MSE: 0.0 (Ожидалось: 0)\n",
            "Векторы: [1, 2, 3], [2, 3, 4] -> MSE: 1.0 (Ожидалось: 1)\n",
            "Векторы: [1, 1, 1], [4, 4, 4] -> MSE: 9.0 (Ожидалось: 9)\n",
            "Векторы: [1, 2], [1, 3] -> MSE: 0.5 (Ожидалось: 0.5)\n"
          ]
        }
      ]
    },
    {
      "cell_type": "markdown",
      "source": [
        "# Задача 6\n",
        "Написать функцию, принимающая целое положительное число. Функция должна вернуть\n",
        "строку вида “(n1**p1)(n2**p2)…(nk**pk)” представляющая разложение числа на простые\n",
        "множители (если pi == 1, то выводить только ni).\n",
        "Например, для числа 86240 функция должна вернуть “(2**5)(5)(7**2)(11)”. Написать тесты для кода"
      ],
      "metadata": {
        "id": "vpIPKL439zkw"
      }
    },
    {
      "cell_type": "code",
      "source": [
        "def prime_factors(n):\n",
        "    i = 2\n",
        "    factors = {}\n",
        "    while i * i <= n:\n",
        "        while (n % i) == 0:\n",
        "            if i in factors:\n",
        "                factors[i] += 1\n",
        "            else:\n",
        "                factors[i] = 1\n",
        "            n //= i\n",
        "        i += 1\n",
        "    if n > 1:\n",
        "        factors[n] = 1\n",
        "    return factors\n",
        "\n",
        "def factor_string(n):\n",
        "    factors = prime_factors(n)\n",
        "    result = \"\"\n",
        "    for factor, power in factors.items():\n",
        "        if power == 1:\n",
        "            result += f\"({factor})\"\n",
        "        else:\n",
        "            result += f\"({factor}**{power})\"\n",
        "    return result\n",
        "\n",
        "\n",
        "test_cases = [\n",
        "    (86240, \"(2**5)(5)(7**2)(11)\"),\n",
        "    (60, \"(2**2)(3)(5)\"),\n",
        "    (13, \"(13)\"),\n",
        "    (100, \"(2**2)(5**2)\"),\n",
        "]\n",
        "\n",
        "\n",
        "for n, expected in test_cases:\n",
        "    result = factor_string(n)\n",
        "    print(f\"Число: {n} -> {result} (Ожидалось: {expected})\")"
      ],
      "metadata": {
        "id": "pFebmcZk94Jw",
        "colab": {
          "base_uri": "https://localhost:8080/"
        },
        "outputId": "68971833-d38e-4c09-90cd-289d31778f71"
      },
      "execution_count": 30,
      "outputs": [
        {
          "output_type": "stream",
          "name": "stdout",
          "text": [
            "Число: 86240 -> (2**5)(5)(7**2)(11) (Ожидалось: (2**5)(5)(7**2)(11))\n",
            "Число: 60 -> (2**2)(3)(5) (Ожидалось: (2**2)(3)(5))\n",
            "Число: 13 -> (13) (Ожидалось: (13))\n",
            "Число: 100 -> (2**2)(5**2) (Ожидалось: (2**2)(5**2))\n"
          ]
        }
      ]
    },
    {
      "cell_type": "markdown",
      "source": [
        "# Задача 7\n",
        "Написать функцию, принимающая целое число n, задающее количество кубиков. Функция\n",
        "должна определить, можно ли из данного кол-ва кубиков построить пирамиду, то есть\n",
        "можно ли представить число n как 1^2+2^2+3^2+…+k^2. Если можно, то функция должна\n",
        "вернуть k, иначе строку “It is impossible”. Написать тесты для кода"
      ],
      "metadata": {
        "id": "ps2s0BudX7A2"
      }
    },
    {
      "cell_type": "code",
      "source": [
        "def pyramid(number):\n",
        "    k = 1\n",
        "    total = 0\n",
        "    while total < number:\n",
        "        total += k ** 2\n",
        "        k += 1\n",
        "    if total == number:\n",
        "        return k - 1\n",
        "    else:\n",
        "        return \"It is impossible\"\n",
        "\n",
        "def pyramid_string(n):\n",
        "    k = pyramid(n)\n",
        "    if k == \"It is impossible\":\n",
        "        return k\n",
        "    else:\n",
        "        return f\"{k}\"\n",
        "\n",
        "test_cases = [\n",
        "    (14, \"3\"), #1^2 + 2^2 + 3^2 = 1 + 4 + 9 = 14\n",
        "    (30, \"3\"), # 1^2 + 2^2 + 3^2 + 4^2 = 1 + 4 + 9 + 16 = 30\n",
        "    (1, \"1\"), # 1^2 = 1\n",
        "    (5, \"2\"), # 1^2 + 2^2 = 1 + 4 = 5\n",
        "    (3, \"It is impossible\"),\n",
        "    (50, \"It is impossible\"),\n",
        "]\n",
        "\n",
        "for n, expected in test_cases:\n",
        "    result = pyramid_string(n)\n",
        "    print(f\"Число: {n} -> {result} (Ожидалось: {expected})\")\n"
      ],
      "metadata": {
        "id": "3YPjEXxhX_YT",
        "colab": {
          "base_uri": "https://localhost:8080/"
        },
        "outputId": "78ac0496-5f6f-47b2-a1d2-0690dcabea80"
      },
      "execution_count": 31,
      "outputs": [
        {
          "output_type": "stream",
          "name": "stdout",
          "text": [
            "Число: 14 -> 3 (Ожидалось: 3)\n",
            "Число: 30 -> 4 (Ожидалось: 3)\n",
            "Число: 1 -> 1 (Ожидалось: 1)\n",
            "Число: 5 -> 2 (Ожидалось: 2)\n",
            "Число: 3 -> It is impossible (Ожидалось: It is impossible)\n",
            "Число: 50 -> It is impossible (Ожидалось: It is impossible)\n"
          ]
        }
      ]
    },
    {
      "cell_type": "markdown",
      "source": [
        "# Задача 8\n",
        "Функция принимает на вход положительное число и определяет является ли оно сбалансированным, т.е. сумма цифр до средних равна сумме цифр после. Средними в случае нечетного числа цифр считать одну цифру, в случае четного - две средних. Написать тесты для кода"
      ],
      "metadata": {
        "id": "KeKgmIdAQMEJ"
      }
    },
    {
      "cell_type": "code",
      "source": [
        "def is_balanced(n):\n",
        "    s = str(n)\n",
        "    length = len(s)\n",
        "    if length < 2:\n",
        "        return False\n",
        "\n",
        "    if length % 2 == 0:\n",
        "        left_part = s[:length // 2]\n",
        "        right_part = s[length // 2:]\n",
        "    else:\n",
        "        left_part = s[:length // 2]\n",
        "        right_part = s[length // 2 + 1:]\n",
        "\n",
        "    return sum(map(int, left_part)) == sum(map(int, right_part))\n",
        "\n",
        "test_cases = [\n",
        "    (1230, True),    # 1 + 2 == 3 + 0\n",
        "    (123321, True),  # 1 + 2 + 3 == 3 + 2 + 1\n",
        "    (123, False),    # 1 != 3\n",
        "    (1, False),      # 1 < 2\n",
        "    (22, True),      # 2 == 2\n",
        "    (123234, False), # 1 + 2 + 3 = 6 != 2 + 3 + 4 = 9\n",
        "    (23032, True), # 2 + 3 = 3 + 2\n",
        "]\n",
        "\n",
        "for n, expected in test_cases:\n",
        "    result = is_balanced(n)\n",
        "    print(f\"Число: {n} -> {result} (Ожидалось: {expected})\")"
      ],
      "metadata": {
        "id": "gMAAqtqlQrZt",
        "colab": {
          "base_uri": "https://localhost:8080/"
        },
        "outputId": "4e94c96c-91e8-4646-a7ef-0c59386c8c8f"
      },
      "execution_count": 32,
      "outputs": [
        {
          "output_type": "stream",
          "name": "stdout",
          "text": [
            "Число: 1230 -> True (Ожидалось: True)\n",
            "Число: 123321 -> True (Ожидалось: True)\n",
            "Число: 123 -> False (Ожидалось: False)\n",
            "Число: 1 -> False (Ожидалось: False)\n",
            "Число: 22 -> True (Ожидалось: True)\n",
            "Число: 123234 -> False (Ожидалось: False)\n",
            "Число: 23032 -> True (Ожидалось: True)\n"
          ]
        }
      ]
    },
    {
      "cell_type": "code",
      "source": [],
      "metadata": {
        "id": "4z3xroFtjPSW"
      },
      "execution_count": null,
      "outputs": []
    }
  ]
}